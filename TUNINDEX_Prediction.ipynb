{
  "nbformat": 4,
  "nbformat_minor": 0,
  "metadata": {
    "colab": {
      "name": "TUNINDEX_Prediction.ipynb",
      "provenance": [],
      "collapsed_sections": [],
      "include_colab_link": true
    },
    "kernelspec": {
      "name": "python3",
      "display_name": "Python 3"
    },
    "accelerator": "GPU"
  },
  "cells": [
    {
      "cell_type": "markdown",
      "metadata": {
        "id": "view-in-github",
        "colab_type": "text"
      },
      "source": [
        "<a href=\"https://colab.research.google.com/github/bfelmokh/DeepLearning_AI/blob/master/TUNINDEX_Prediction.ipynb\" target=\"_parent\"><img src=\"https://colab.research.google.com/assets/colab-badge.svg\" alt=\"Open In Colab\"/></a>"
      ]
    },
    {
      "cell_type": "markdown",
      "metadata": {
        "id": "672LV7KyTEht",
        "colab_type": "text"
      },
      "source": [
        "# <center> **Prévision de l'indice boursier de référence de la Bourse de Tunis TUNINDEX avec RNN** </center>\n",
        "<center><img src=\"https://i0.wp.com/tunimarkets.net/wp-content/uploads/2018/04/Bourse-de-tunis.jpg?fit=1507%2C842&ssl=1\" width=100% /></center>\n",
        "\n",
        "#####_Présenté par_: <a href=\"https://www.linkedin.com/in/aminekaabar/\">KAABAR Amine</a>  & <a href=\"https://www.linkedin.com/in/bfelmokh\">BENFRAJ ElMokhtar</a>\n",
        "#####Source du dataset: <a href=\"https://www.ilboursa.com/\"><img width=13% height=10% src=\"https://www.ilboursa.com/i/logo_ilboursa2.png\"/></a>\n",
        "##### <a href=\"https://github.com/bfelmokh/DeepLearning_AI\"> Lien vers Github </a>\n",
        "---\n",
        "### <b>I. Introduction </b>\n",
        "L’indice boursier  est  parmi  les principaux indicateurs auxquels les  investisseurs  se  réfèrent pour analyser l’état de  santé d’une place donnée. <br>\n",
        "➤ L’indice TUNINDEX est un indice pondéré par les capitalisations boursières flottantes. <br>\n",
        "➤ TUNINDEX est un indice statistique, de type rendement, qui mesure la tendance générale des marchés des titres de capital de la Cote de la Bourse.\n",
        "\n",
        "_<center>●●●</center>_\n",
        "### <b>II. L'apprentissage profond au service du trading en bourse </b>\n",
        "\n",
        "\n",
        "\n",
        "<center><img src=\"https://blog.pumpup.fr/hs-fs/hubfs/Imported_Blog_Media/Cartographie-de-lIA-1.png?width=600&name=Cartographie-de-lIA-1.png\" width=50% /></center>\n",
        "\n",
        "Les avantages d'utilisation de l'apprentissage profond dans le domaine de la bourse: <br>\n",
        "➤ Extraction des fonctionnalités d'un large ensemble de données brutes sans s'appuyer sur une connaissance préalable des prédicteurs. <br>\n",
        "➤ Découverte de l'état du marché. <br>\n",
        "➤ Réduction du taux des risques <br>\n",
        "➤ Capaité aux machines de prendre des décisions plus rapidement qu'un humain et de mener des actions plus rapidement.\n",
        "<br>\n",
        "### <b>III. Type de réseaux de neurones </b>\n",
        "\n",
        "<center><img src=\"https://www.digitalvidya.com/wp-content/uploads/2019/01/Image-1-2.png\" width=90% /></center>\n",
        "\n",
        "Pourquoi choisir RNN ? <br>\n",
        "➤ RNN peut modéliser la séquence de données de sorte que chaque échantillon puisse être supposé dépendre des précédents <br>\n",
        "➤ RNN répond aux problèmes de prédiction de classification et aux problèmes de prédiction de régression. <br><br>\n",
        "Quel type de RNN utiliser ?<br>\n",
        "➤ Le réseau Long Short-Term Memory, ou LSTM, est peut-être le RNN le plus performant car il surmonte les problèmes de formation d'un réseau récurrent.<br>\n",
        "➤ Les réseaux LSTM utilisent des unités spéciales en plus des unités standard. Les unités LSTM comprennent une «cellule mémoire» qui peut conserver les informations en mémoire pendant de longues périodes.\n",
        "\n",
        "### <b>IV. Architecture générale du réseau</b>\n",
        "\n",
        "<center><img src=\"https://pydeeplearning.weebly.com/uploads/9/8/4/2/98422174/rnn_orig.png\" width=100% /></center>\n",
        "\n",
        "### <b>V. Application</b>\n",
        "Etapes\n",
        "1.   Prépartion des données d'apprentissage\n",
        "2.   Prépartion du RNN: Application des couches LSTM et la régularisation Dropout.\n",
        "3.   Prépartion des données de test\n",
        "4.   Prédiction à partir des données d'apprentissage\n",
        "5.   Visualisation du résultat\n",
        "\n",
        "### <b>VI. Code source :</b>\n",
        "\n",
        "\n"
      ]
    },
    {
      "cell_type": "code",
      "metadata": {
        "id": "u_juEy0EfRgt",
        "colab_type": "code",
        "colab": {}
      },
      "source": [
        "# Importing the libraries\n",
        "import numpy as np\n",
        "import matplotlib.pyplot as plt\n",
        "import pandas as pd"
      ],
      "execution_count": 0,
      "outputs": []
    },
    {
      "cell_type": "code",
      "metadata": {
        "id": "mqYqLpBRoyFG",
        "colab_type": "code",
        "outputId": "8a059bcd-b5b8-4b13-ab6d-0808d32909c6",
        "colab": {
          "resources": {
            "http://localhost:8080/nbextensions/google.colab/files.js": {
              "data": "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",
              "ok": true,
              "headers": [
                [
                  "content-type",
                  "application/javascript"
                ]
              ],
              "status": 200,
              "status_text": ""
            }
          },
          "base_uri": "https://localhost:8080/",
          "height": 312
        }
      },
      "source": [
        "from google.colab import files\n",
        "uploaded = files.upload()\n",
        "import io\n",
        "df = pd.read_csv(io.BytesIO(uploaded['train.csv']))\n",
        "\n",
        "print(df)"
      ],
      "execution_count": 2,
      "outputs": [
        {
          "output_type": "display_data",
          "data": {
            "text/html": [
              "\n",
              "     <input type=\"file\" id=\"files-91f3e2a0-9d53-429f-b7ea-2e6df18a6f13\" name=\"files[]\" multiple disabled />\n",
              "     <output id=\"result-91f3e2a0-9d53-429f-b7ea-2e6df18a6f13\">\n",
              "      Upload widget is only available when the cell has been executed in the\n",
              "      current browser session. Please rerun this cell to enable.\n",
              "      </output>\n",
              "      <script src=\"/nbextensions/google.colab/files.js\"></script> "
            ],
            "text/plain": [
              "<IPython.core.display.HTML object>"
            ]
          },
          "metadata": {
            "tags": []
          }
        },
        {
          "output_type": "stream",
          "text": [
            "Saving train.csv to train.csv\n",
            "           date  ouverture     haut      bas  cloture   volume\n",
            "0    02/04/2019    6862.12  6907.50  6855.94  6873.54  2390964\n",
            "1    03/04/2019    6873.54  6900.81  6870.55  6887.35  5225168\n",
            "2    04/04/2019    6887.35  6941.96  6871.73  6940.39  3493205\n",
            "3    05/04/2019    6940.39  6968.90  6933.56  6967.69  2997212\n",
            "4    08/04/2019    6967.69  6967.69  6892.12  6928.03  2845349\n",
            "..          ...        ...      ...      ...      ...      ...\n",
            "281  13/02/2020    7099.02  7126.83  7084.31  7110.26  2058206\n",
            "282  14/02/2020    7110.46  7126.05  7090.95  7115.50  1531977\n",
            "283  17/02/2020    7116.17  7144.12  7105.04  7138.31  1120001\n",
            "284  18/02/2020    7153.80  7159.77  7116.62  7149.78  1353323\n",
            "285  19/02/2020    7151.31  7160.96  7131.60  7160.96  1261318\n",
            "\n",
            "[286 rows x 6 columns]\n"
          ],
          "name": "stdout"
        }
      ]
    },
    {
      "cell_type": "code",
      "metadata": {
        "id": "87kyZuh9C-MA",
        "colab_type": "code",
        "colab": {
          "base_uri": "https://localhost:8080/",
          "height": 297
        },
        "outputId": "fed57805-96e6-4509-a312-7f09a25a5561"
      },
      "source": [
        "df.describe()"
      ],
      "execution_count": 5,
      "outputs": [
        {
          "output_type": "execute_result",
          "data": {
            "text/html": [
              "<div>\n",
              "<style scoped>\n",
              "    .dataframe tbody tr th:only-of-type {\n",
              "        vertical-align: middle;\n",
              "    }\n",
              "\n",
              "    .dataframe tbody tr th {\n",
              "        vertical-align: top;\n",
              "    }\n",
              "\n",
              "    .dataframe thead th {\n",
              "        text-align: right;\n",
              "    }\n",
              "</style>\n",
              "<table border=\"1\" class=\"dataframe\">\n",
              "  <thead>\n",
              "    <tr style=\"text-align: right;\">\n",
              "      <th></th>\n",
              "      <th>ouverture</th>\n",
              "      <th>haut</th>\n",
              "      <th>bas</th>\n",
              "      <th>cloture</th>\n",
              "      <th>volume</th>\n",
              "    </tr>\n",
              "  </thead>\n",
              "  <tbody>\n",
              "    <tr>\n",
              "      <th>count</th>\n",
              "      <td>286.000000</td>\n",
              "      <td>286.000000</td>\n",
              "      <td>286.000000</td>\n",
              "      <td>286.000000</td>\n",
              "      <td>2.860000e+02</td>\n",
              "    </tr>\n",
              "    <tr>\n",
              "      <th>mean</th>\n",
              "      <td>7013.108427</td>\n",
              "      <td>7033.641364</td>\n",
              "      <td>6985.113497</td>\n",
              "      <td>7009.296259</td>\n",
              "      <td>2.425181e+06</td>\n",
              "    </tr>\n",
              "    <tr>\n",
              "      <th>std</th>\n",
              "      <td>184.934335</td>\n",
              "      <td>179.376739</td>\n",
              "      <td>196.375127</td>\n",
              "      <td>190.431051</td>\n",
              "      <td>1.415617e+06</td>\n",
              "    </tr>\n",
              "    <tr>\n",
              "      <th>min</th>\n",
              "      <td>6116.160000</td>\n",
              "      <td>6160.820000</td>\n",
              "      <td>6000.430000</td>\n",
              "      <td>6116.160000</td>\n",
              "      <td>5.450630e+05</td>\n",
              "    </tr>\n",
              "    <tr>\n",
              "      <th>25%</th>\n",
              "      <td>6946.472500</td>\n",
              "      <td>6968.915000</td>\n",
              "      <td>6919.545000</td>\n",
              "      <td>6944.572500</td>\n",
              "      <td>1.423205e+06</td>\n",
              "    </tr>\n",
              "    <tr>\n",
              "      <th>50%</th>\n",
              "      <td>7035.370000</td>\n",
              "      <td>7053.705000</td>\n",
              "      <td>7014.275000</td>\n",
              "      <td>7033.920000</td>\n",
              "      <td>2.019675e+06</td>\n",
              "    </tr>\n",
              "    <tr>\n",
              "      <th>75%</th>\n",
              "      <td>7123.672500</td>\n",
              "      <td>7145.267500</td>\n",
              "      <td>7102.595000</td>\n",
              "      <td>7121.685000</td>\n",
              "      <td>3.102400e+06</td>\n",
              "    </tr>\n",
              "    <tr>\n",
              "      <th>max</th>\n",
              "      <td>7278.890000</td>\n",
              "      <td>7301.030000</td>\n",
              "      <td>7258.050000</td>\n",
              "      <td>7278.890000</td>\n",
              "      <td>1.031695e+07</td>\n",
              "    </tr>\n",
              "  </tbody>\n",
              "</table>\n",
              "</div>"
            ],
            "text/plain": [
              "         ouverture         haut          bas      cloture        volume\n",
              "count   286.000000   286.000000   286.000000   286.000000  2.860000e+02\n",
              "mean   7013.108427  7033.641364  6985.113497  7009.296259  2.425181e+06\n",
              "std     184.934335   179.376739   196.375127   190.431051  1.415617e+06\n",
              "min    6116.160000  6160.820000  6000.430000  6116.160000  5.450630e+05\n",
              "25%    6946.472500  6968.915000  6919.545000  6944.572500  1.423205e+06\n",
              "50%    7035.370000  7053.705000  7014.275000  7033.920000  2.019675e+06\n",
              "75%    7123.672500  7145.267500  7102.595000  7121.685000  3.102400e+06\n",
              "max    7278.890000  7301.030000  7258.050000  7278.890000  1.031695e+07"
            ]
          },
          "metadata": {
            "tags": []
          },
          "execution_count": 5
        }
      ]
    },
    {
      "cell_type": "code",
      "metadata": {
        "id": "dSHbhxeYDFbN",
        "colab_type": "code",
        "colab": {
          "base_uri": "https://localhost:8080/",
          "height": 357
        },
        "outputId": "eb406dc8-7784-4ec7-ea05-a32842801853"
      },
      "source": [
        "#Description des champs\n",
        "df.info()\n",
        "df.count()"
      ],
      "execution_count": 8,
      "outputs": [
        {
          "output_type": "stream",
          "text": [
            "<class 'pandas.core.frame.DataFrame'>\n",
            "RangeIndex: 286 entries, 0 to 285\n",
            "Data columns (total 6 columns):\n",
            " #   Column     Non-Null Count  Dtype  \n",
            "---  ------     --------------  -----  \n",
            " 0   date       286 non-null    object \n",
            " 1   ouverture  286 non-null    float64\n",
            " 2   haut       286 non-null    float64\n",
            " 3   bas        286 non-null    float64\n",
            " 4   cloture    286 non-null    float64\n",
            " 5   volume     286 non-null    int64  \n",
            "dtypes: float64(4), int64(1), object(1)\n",
            "memory usage: 13.5+ KB\n"
          ],
          "name": "stdout"
        },
        {
          "output_type": "execute_result",
          "data": {
            "text/plain": [
              "date         286\n",
              "ouverture    286\n",
              "haut         286\n",
              "bas          286\n",
              "cloture      286\n",
              "volume       286\n",
              "dtype: int64"
            ]
          },
          "metadata": {
            "tags": []
          },
          "execution_count": 8
        }
      ]
    },
    {
      "cell_type": "code",
      "metadata": {
        "id": "zWCUWGjxgF7q",
        "colab_type": "code",
        "outputId": "2c7d0b62-8fd9-40d2-a78d-6f3ec58963fc",
        "colab": {
          "base_uri": "https://localhost:8080/",
          "height": 1000
        }
      },
      "source": [
        "# Importing the training set\n",
        "dataset_train = pd.read_csv('train.csv')\n",
        "training_set = dataset_train.iloc[:, 1:2].values\n",
        "print(training_set)"
      ],
      "execution_count": 9,
      "outputs": [
        {
          "output_type": "stream",
          "text": [
            "[[6862.12]\n",
            " [6873.54]\n",
            " [6887.35]\n",
            " [6940.39]\n",
            " [6967.69]\n",
            " [6928.03]\n",
            " [6932.11]\n",
            " [6913.64]\n",
            " [6952.83]\n",
            " [6948.31]\n",
            " [6942.07]\n",
            " [6942.86]\n",
            " [6942.17]\n",
            " [6945.24]\n",
            " [6960.48]\n",
            " [6950.37]\n",
            " [6942.07]\n",
            " [6944.33]\n",
            " [6928.27]\n",
            " [6892.52]\n",
            " [6885.12]\n",
            " [6887.21]\n",
            " [6857.02]\n",
            " [6882.74]\n",
            " [6885.24]\n",
            " [6882.55]\n",
            " [6907.82]\n",
            " [6917.78]\n",
            " [6938.11]\n",
            " [6919.82]\n",
            " [6916.12]\n",
            " [6944.35]\n",
            " [6962.54]\n",
            " [6937.48]\n",
            " [6911.43]\n",
            " [6915.46]\n",
            " [6928.09]\n",
            " [6956.91]\n",
            " [6962.23]\n",
            " [6970.93]\n",
            " [7015.75]\n",
            " [7035.16]\n",
            " [7040.96]\n",
            " [7052.8 ]\n",
            " [7081.27]\n",
            " [7071.89]\n",
            " [7022.56]\n",
            " [7074.49]\n",
            " [7089.11]\n",
            " [7076.61]\n",
            " [7081.56]\n",
            " [7080.88]\n",
            " [7102.17]\n",
            " [7103.68]\n",
            " [7102.52]\n",
            " [7123.28]\n",
            " [7148.18]\n",
            " [7162.21]\n",
            " [7065.51]\n",
            " [7149.  ]\n",
            " [7177.48]\n",
            " [7163.01]\n",
            " [7189.95]\n",
            " [7193.85]\n",
            " [7217.43]\n",
            " [7233.03]\n",
            " [7230.01]\n",
            " [7242.96]\n",
            " [7235.6 ]\n",
            " [7254.36]\n",
            " [7262.99]\n",
            " [7278.89]\n",
            " [7262.04]\n",
            " [7251.2 ]\n",
            " [7201.31]\n",
            " [7197.19]\n",
            " [7163.61]\n",
            " [7160.77]\n",
            " [7167.63]\n",
            " [7164.33]\n",
            " [7149.7 ]\n",
            " [7163.97]\n",
            " [7177.85]\n",
            " [7170.47]\n",
            " [7179.27]\n",
            " [7183.71]\n",
            " [7203.84]\n",
            " [7191.15]\n",
            " [7191.6 ]\n",
            " [7182.25]\n",
            " [7177.83]\n",
            " [7168.06]\n",
            " [7172.36]\n",
            " [7169.38]\n",
            " [7174.75]\n",
            " [7194.58]\n",
            " [7205.61]\n",
            " [7189.49]\n",
            " [7181.14]\n",
            " [7214.95]\n",
            " [7242.63]\n",
            " [7278.56]\n",
            " [7234.63]\n",
            " [7233.33]\n",
            " [7217.12]\n",
            " [7200.91]\n",
            " [7157.58]\n",
            " [7153.63]\n",
            " [7129.98]\n",
            " [7131.87]\n",
            " [7123.29]\n",
            " [7119.39]\n",
            " [7116.7 ]\n",
            " [7094.87]\n",
            " [7123.88]\n",
            " [7123.8 ]\n",
            " [7103.25]\n",
            " [7076.31]\n",
            " [7064.63]\n",
            " [7063.28]\n",
            " [7090.22]\n",
            " [7094.77]\n",
            " [7048.  ]\n",
            " [7038.58]\n",
            " [7021.3 ]\n",
            " [7041.73]\n",
            " [7038.97]\n",
            " [7026.44]\n",
            " [7022.68]\n",
            " [7014.  ]\n",
            " [7015.73]\n",
            " [6996.96]\n",
            " [7033.8 ]\n",
            " [7033.64]\n",
            " [7063.9 ]\n",
            " [7060.84]\n",
            " [7057.73]\n",
            " [7035.79]\n",
            " [7049.9 ]\n",
            " [7070.22]\n",
            " [7028.99]\n",
            " [7016.45]\n",
            " [6999.02]\n",
            " [6963.07]\n",
            " [6989.69]\n",
            " [6993.01]\n",
            " [6981.72]\n",
            " [6977.86]\n",
            " [6985.79]\n",
            " [6983.39]\n",
            " [7009.44]\n",
            " [7003.46]\n",
            " [6994.46]\n",
            " [6999.94]\n",
            " [6993.42]\n",
            " [6991.01]\n",
            " [6971.79]\n",
            " [6977.03]\n",
            " [6945.86]\n",
            " [6935.3 ]\n",
            " [6939.55]\n",
            " [6937.13]\n",
            " [6925.86]\n",
            " [6924.61]\n",
            " [6938.17]\n",
            " [6955.08]\n",
            " [6963.68]\n",
            " [6966.43]\n",
            " [6968.89]\n",
            " [6976.75]\n",
            " [7015.9 ]\n",
            " [7038.89]\n",
            " [7016.52]\n",
            " [7000.  ]\n",
            " [6994.04]\n",
            " [7000.79]\n",
            " [6985.86]\n",
            " [6974.71]\n",
            " [6983.74]\n",
            " [6981.56]\n",
            " [6973.  ]\n",
            " [6976.47]\n",
            " [6994.44]\n",
            " [7020.05]\n",
            " [7055.85]\n",
            " [7053.02]\n",
            " [7132.58]\n",
            " [7122.09]\n",
            " [7031.99]\n",
            " [6996.86]\n",
            " [6965.31]\n",
            " [6923.17]\n",
            " [6893.55]\n",
            " [6881.14]\n",
            " [6863.47]\n",
            " [6882.41]\n",
            " [6902.02]\n",
            " [6917.59]\n",
            " [6909.32]\n",
            " [6959.6 ]\n",
            " [6956.8 ]\n",
            " [6980.84]\n",
            " [6985.23]\n",
            " [7035.58]\n",
            " [7052.62]\n",
            " [7062.77]\n",
            " [7065.81]\n",
            " [7056.16]\n",
            " [7082.71]\n",
            " [7091.97]\n",
            " [7087.66]\n",
            " [7060.12]\n",
            " [7085.53]\n",
            " [7095.33]\n",
            " [7089.64]\n",
            " [7088.43]\n",
            " [7099.02]\n",
            " [7110.46]\n",
            " [7116.17]\n",
            " [7153.8 ]\n",
            " [7151.31]\n",
            " [7174.01]\n",
            " [7170.94]\n",
            " [7179.81]\n",
            " [7173.11]\n",
            " [7147.42]\n",
            " [7135.52]\n",
            " [7150.52]\n",
            " [7176.88]\n",
            " [7210.  ]\n",
            " [7182.49]\n",
            " [7163.22]\n",
            " [7130.67]\n",
            " [7020.94]\n",
            " [6915.45]\n",
            " [6864.03]\n",
            " [6918.69]\n",
            " [6805.25]\n",
            " [6618.  ]\n",
            " [6312.59]\n",
            " [6116.16]\n",
            " [6185.9 ]\n",
            " [6167.1 ]\n",
            " [6199.98]\n",
            " [6339.36]\n",
            " [6377.98]\n",
            " [6432.65]\n",
            " [6412.02]\n",
            " [6433.65]\n",
            " [6486.18]\n",
            " [6483.54]\n",
            " [6338.35]\n",
            " [7122.09]\n",
            " [7031.99]\n",
            " [6996.86]\n",
            " [6965.31]\n",
            " [6923.17]\n",
            " [6893.55]\n",
            " [6881.14]\n",
            " [6863.47]\n",
            " [6882.41]\n",
            " [6902.02]\n",
            " [6917.59]\n",
            " [6909.32]\n",
            " [6959.6 ]\n",
            " [6956.8 ]\n",
            " [6980.84]\n",
            " [6985.23]\n",
            " [7035.58]\n",
            " [7052.62]\n",
            " [7062.77]\n",
            " [7065.81]\n",
            " [7056.16]\n",
            " [7082.71]\n",
            " [7091.97]\n",
            " [7087.66]\n",
            " [7060.12]\n",
            " [7085.53]\n",
            " [7095.33]\n",
            " [7089.64]\n",
            " [7088.43]\n",
            " [7099.02]\n",
            " [7110.46]\n",
            " [7116.17]\n",
            " [7153.8 ]\n",
            " [7151.31]]\n"
          ],
          "name": "stdout"
        }
      ]
    },
    {
      "cell_type": "code",
      "metadata": {
        "id": "5BojekmdgJyo",
        "colab_type": "code",
        "colab": {}
      },
      "source": [
        "# Feature Scaling\n",
        "from sklearn.preprocessing import MinMaxScaler\n",
        "sc = MinMaxScaler(feature_range = (0, 1))\n",
        "training_set_scaled = sc.fit_transform(training_set)"
      ],
      "execution_count": 0,
      "outputs": []
    },
    {
      "cell_type": "code",
      "metadata": {
        "id": "oBkNYeZIgNzQ",
        "colab_type": "code",
        "colab": {}
      },
      "source": [
        "# Creating a data structure with 60 timesteps and 1 output\n",
        "X_train = []\n",
        "y_train = []\n",
        "for i in range(60, 286):\n",
        "    X_train.append(training_set_scaled[i-60:i, 0])\n",
        "    y_train.append(training_set_scaled[i, 0])\n",
        "X_train, y_train = np.array(X_train), np.array(y_train)\n"
      ],
      "execution_count": 0,
      "outputs": []
    },
    {
      "cell_type": "code",
      "metadata": {
        "id": "0V8IejzJgQ89",
        "colab_type": "code",
        "colab": {}
      },
      "source": [
        "# Reshaping\n",
        "X_train = np.reshape(X_train, (X_train.shape[0], X_train.shape[1], 1))"
      ],
      "execution_count": 0,
      "outputs": []
    },
    {
      "cell_type": "code",
      "metadata": {
        "id": "p_poT_tWgTO9",
        "colab_type": "code",
        "colab": {}
      },
      "source": [
        "# Part 2 - Building the RNN\n",
        "# Importing the Keras libraries and packages\n",
        "from tensorflow.keras.models import Sequential\n",
        "from tensorflow.keras.layers import Dense\n",
        "from tensorflow.keras.layers import LSTM\n",
        "from tensorflow.keras.layers import Dropout"
      ],
      "execution_count": 0,
      "outputs": []
    },
    {
      "cell_type": "code",
      "metadata": {
        "id": "2LC_5xvugZKG",
        "colab_type": "code",
        "colab": {}
      },
      "source": [
        "# Initialising the RNN\n",
        "regressor = Sequential()"
      ],
      "execution_count": 0,
      "outputs": []
    },
    {
      "cell_type": "code",
      "metadata": {
        "id": "1pS0jRgygcQb",
        "colab_type": "code",
        "colab": {}
      },
      "source": [
        "# Adding the first LSTM layer and some Dropout regularisation\n",
        "regressor.add(LSTM(units = 50, return_sequences = True, input_shape = (X_train.shape[1], 1)))\n",
        "regressor.add(Dropout(0.2))"
      ],
      "execution_count": 0,
      "outputs": []
    },
    {
      "cell_type": "code",
      "metadata": {
        "id": "M1etwBZggeeH",
        "colab_type": "code",
        "colab": {}
      },
      "source": [
        "# Adding a second LSTM layer and some Dropout regularisation\n",
        "regressor.add(LSTM(units = 50, return_sequences = True))\n",
        "regressor.add(Dropout(0.2))"
      ],
      "execution_count": 0,
      "outputs": []
    },
    {
      "cell_type": "code",
      "metadata": {
        "id": "bO-vui_LghsV",
        "colab_type": "code",
        "colab": {}
      },
      "source": [
        "# Adding a third LSTM layer and some Dropout regularisation\n",
        "regressor.add(LSTM(units = 50, return_sequences = True))\n",
        "regressor.add(Dropout(0.2))"
      ],
      "execution_count": 0,
      "outputs": []
    },
    {
      "cell_type": "code",
      "metadata": {
        "id": "Be_-U9Fdgjiw",
        "colab_type": "code",
        "colab": {}
      },
      "source": [
        "# Adding a fourth LSTM layer and some Dropout regularisation\n",
        "regressor.add(LSTM(units = 50))\n",
        "regressor.add(Dropout(0.2))"
      ],
      "execution_count": 0,
      "outputs": []
    },
    {
      "cell_type": "code",
      "metadata": {
        "id": "rpN1hiWLglkw",
        "colab_type": "code",
        "outputId": "3973f147-7e8e-41ff-88db-da48e4f18821",
        "colab": {
          "base_uri": "https://localhost:8080/",
          "height": 459
        }
      },
      "source": [
        "# Adding the output layer\n",
        "regressor.add(Dense(units = 1))\n",
        "regressor.summary()"
      ],
      "execution_count": 0,
      "outputs": [
        {
          "output_type": "stream",
          "text": [
            "Model: \"sequential\"\n",
            "_________________________________________________________________\n",
            "Layer (type)                 Output Shape              Param #   \n",
            "=================================================================\n",
            "lstm (LSTM)                  (None, 60, 50)            10400     \n",
            "_________________________________________________________________\n",
            "dropout (Dropout)            (None, 60, 50)            0         \n",
            "_________________________________________________________________\n",
            "lstm_1 (LSTM)                (None, 60, 50)            20200     \n",
            "_________________________________________________________________\n",
            "dropout_1 (Dropout)          (None, 60, 50)            0         \n",
            "_________________________________________________________________\n",
            "lstm_2 (LSTM)                (None, 60, 50)            20200     \n",
            "_________________________________________________________________\n",
            "dropout_2 (Dropout)          (None, 60, 50)            0         \n",
            "_________________________________________________________________\n",
            "lstm_3 (LSTM)                (None, 50)                20200     \n",
            "_________________________________________________________________\n",
            "dropout_3 (Dropout)          (None, 50)                0         \n",
            "_________________________________________________________________\n",
            "dense (Dense)                (None, 1)                 51        \n",
            "=================================================================\n",
            "Total params: 71,051\n",
            "Trainable params: 71,051\n",
            "Non-trainable params: 0\n",
            "_________________________________________________________________\n"
          ],
          "name": "stdout"
        }
      ]
    },
    {
      "cell_type": "code",
      "metadata": {
        "id": "9CcP1wDTgnh9",
        "colab_type": "code",
        "colab": {}
      },
      "source": [
        "# Compiling the RNN\n",
        "regressor.compile(optimizer = 'adam', loss = 'mean_squared_error')\n"
      ],
      "execution_count": 0,
      "outputs": []
    },
    {
      "cell_type": "code",
      "metadata": {
        "id": "3gTpe-wAgqA6",
        "colab_type": "code",
        "outputId": "2a3e0b16-ce3c-4848-ab64-d96802d9e93c",
        "colab": {
          "base_uri": "https://localhost:8080/",
          "height": 1000
        }
      },
      "source": [
        "# Fitting the RNN to the Training set\n",
        "regressor.fit(X_train, y_train, epochs = 50, batch_size = 28, verbose = 1)"
      ],
      "execution_count": 0,
      "outputs": [
        {
          "output_type": "stream",
          "text": [
            "Epoch 1/50\n",
            "9/9 [==============================] - 0s 13ms/step - loss: 0.0060\n",
            "Epoch 2/50\n",
            "9/9 [==============================] - 0s 13ms/step - loss: 0.0054\n",
            "Epoch 3/50\n",
            "9/9 [==============================] - 0s 12ms/step - loss: 0.0054\n",
            "Epoch 4/50\n",
            "9/9 [==============================] - 0s 11ms/step - loss: 0.0062\n",
            "Epoch 5/50\n",
            "9/9 [==============================] - 0s 12ms/step - loss: 0.0041\n",
            "Epoch 6/50\n",
            "9/9 [==============================] - 0s 11ms/step - loss: 0.0059\n",
            "Epoch 7/50\n",
            "9/9 [==============================] - 0s 12ms/step - loss: 0.0057\n",
            "Epoch 8/50\n",
            "9/9 [==============================] - 0s 12ms/step - loss: 0.0062\n",
            "Epoch 9/50\n",
            "9/9 [==============================] - 0s 12ms/step - loss: 0.0053\n",
            "Epoch 10/50\n",
            "9/9 [==============================] - 0s 11ms/step - loss: 0.0069\n",
            "Epoch 11/50\n",
            "9/9 [==============================] - 0s 11ms/step - loss: 0.0054\n",
            "Epoch 12/50\n",
            "9/9 [==============================] - 0s 11ms/step - loss: 0.0061\n",
            "Epoch 13/50\n",
            "9/9 [==============================] - 0s 11ms/step - loss: 0.0057\n",
            "Epoch 14/50\n",
            "9/9 [==============================] - 0s 11ms/step - loss: 0.0079\n",
            "Epoch 15/50\n",
            "9/9 [==============================] - 0s 11ms/step - loss: 0.0065\n",
            "Epoch 16/50\n",
            "9/9 [==============================] - 0s 12ms/step - loss: 0.0058\n",
            "Epoch 17/50\n",
            "9/9 [==============================] - 0s 12ms/step - loss: 0.0062\n",
            "Epoch 18/50\n",
            "9/9 [==============================] - 0s 12ms/step - loss: 0.0069\n",
            "Epoch 19/50\n",
            "9/9 [==============================] - 0s 12ms/step - loss: 0.0059\n",
            "Epoch 20/50\n",
            "9/9 [==============================] - 0s 12ms/step - loss: 0.0079\n",
            "Epoch 21/50\n",
            "9/9 [==============================] - 0s 11ms/step - loss: 0.0072\n",
            "Epoch 22/50\n",
            "9/9 [==============================] - 0s 11ms/step - loss: 0.0061\n",
            "Epoch 23/50\n",
            "9/9 [==============================] - 0s 11ms/step - loss: 0.0051\n",
            "Epoch 24/50\n",
            "9/9 [==============================] - 0s 12ms/step - loss: 0.0055\n",
            "Epoch 25/50\n",
            "9/9 [==============================] - 0s 11ms/step - loss: 0.0062\n",
            "Epoch 26/50\n",
            "9/9 [==============================] - 0s 13ms/step - loss: 0.0066\n",
            "Epoch 27/50\n",
            "9/9 [==============================] - 0s 11ms/step - loss: 0.0071\n",
            "Epoch 28/50\n",
            "9/9 [==============================] - 0s 11ms/step - loss: 0.0061\n",
            "Epoch 29/50\n",
            "9/9 [==============================] - 0s 11ms/step - loss: 0.0059\n",
            "Epoch 30/50\n",
            "9/9 [==============================] - 0s 11ms/step - loss: 0.0056\n",
            "Epoch 31/50\n",
            "9/9 [==============================] - 0s 11ms/step - loss: 0.0061\n",
            "Epoch 32/50\n",
            "9/9 [==============================] - 0s 11ms/step - loss: 0.0053\n",
            "Epoch 33/50\n",
            "9/9 [==============================] - 0s 12ms/step - loss: 0.0055\n",
            "Epoch 34/50\n",
            "9/9 [==============================] - 0s 11ms/step - loss: 0.0060\n",
            "Epoch 35/50\n",
            "9/9 [==============================] - 0s 12ms/step - loss: 0.0078\n",
            "Epoch 36/50\n",
            "9/9 [==============================] - 0s 11ms/step - loss: 0.0068\n",
            "Epoch 37/50\n",
            "9/9 [==============================] - 0s 11ms/step - loss: 0.0062\n",
            "Epoch 38/50\n",
            "9/9 [==============================] - 0s 11ms/step - loss: 0.0047\n",
            "Epoch 39/50\n",
            "9/9 [==============================] - 0s 11ms/step - loss: 0.0049\n",
            "Epoch 40/50\n",
            "9/9 [==============================] - 0s 12ms/step - loss: 0.0049\n",
            "Epoch 41/50\n",
            "9/9 [==============================] - 0s 12ms/step - loss: 0.0051\n",
            "Epoch 42/50\n",
            "9/9 [==============================] - 0s 11ms/step - loss: 0.0050\n",
            "Epoch 43/50\n",
            "9/9 [==============================] - 0s 12ms/step - loss: 0.0051\n",
            "Epoch 44/50\n",
            "9/9 [==============================] - 0s 11ms/step - loss: 0.0056\n",
            "Epoch 45/50\n",
            "9/9 [==============================] - 0s 11ms/step - loss: 0.0053\n",
            "Epoch 46/50\n",
            "9/9 [==============================] - 0s 11ms/step - loss: 0.0047\n",
            "Epoch 47/50\n",
            "9/9 [==============================] - 0s 11ms/step - loss: 0.0050\n",
            "Epoch 48/50\n",
            "9/9 [==============================] - 0s 11ms/step - loss: 0.0056\n",
            "Epoch 49/50\n",
            "9/9 [==============================] - 0s 12ms/step - loss: 0.0063\n",
            "Epoch 50/50\n",
            "9/9 [==============================] - 0s 12ms/step - loss: 0.0067\n"
          ],
          "name": "stdout"
        },
        {
          "output_type": "execute_result",
          "data": {
            "text/plain": [
              "<tensorflow.python.keras.callbacks.History at 0x7facad9cc7f0>"
            ]
          },
          "metadata": {
            "tags": []
          },
          "execution_count": 30
        }
      ]
    },
    {
      "cell_type": "code",
      "metadata": {
        "id": "OCt2fE_8gw60",
        "colab_type": "code",
        "colab": {}
      },
      "source": [
        "# Part 3 - Making the predictions and visualising the results\n",
        "# Getting the real stock price\n",
        "uploaded = files.upload()\n",
        "df3 = pd.read_csv(io.BytesIO(uploaded['test.csv']))\n",
        "print(df3)\n"
      ],
      "execution_count": 0,
      "outputs": []
    },
    {
      "cell_type": "code",
      "metadata": {
        "id": "hDKYF_IYku2c",
        "colab_type": "code",
        "colab": {}
      },
      "source": [
        "dataset_test = pd.read_csv('test.csv')\n",
        "real_index = dataset_test.iloc[:, 1:2].values"
      ],
      "execution_count": 0,
      "outputs": []
    },
    {
      "cell_type": "code",
      "metadata": {
        "id": "2fa90lWfgy5k",
        "colab_type": "code",
        "outputId": "79419c8b-1170-43bd-89db-e60d44daaa6c",
        "colab": {
          "base_uri": "https://localhost:8080/",
          "height": 731
        }
      },
      "source": [
        "# Getting the predicted Index\n",
        "dataset_total = pd.concat((dataset_train['ouverture'], dataset_test['ouverture']), axis = 0)\n",
        "inputs = dataset_total[len(dataset_total) - len(dataset_test) - 60:].values\n",
        "inputs = inputs.reshape(-1,1)\n",
        "inputs = sc.transform(inputs)\n",
        "X_test = []\n",
        "for i in range(60, 74):\n",
        "    X_test.append(inputs[i-60:i, 0])\n",
        "X_test = np.array(X_test)\n",
        "X_test = np.reshape(X_test, (X_test.shape[0], X_test.shape[1], 1))\n",
        "predicted_index = regressor.predict(X_test)\n",
        "#print(predicted_index)\n",
        "predicted_index = sc.inverse_transform(predicted_index)\n",
        "print(\"Predicted Index\")\n",
        "print(predicted_index)\n",
        "print(\"Real Index\")\n",
        "print(real_index)"
      ],
      "execution_count": 0,
      "outputs": [
        {
          "output_type": "stream",
          "text": [
            "[[0.8503109 ]\n",
            " [0.85577315]\n",
            " [0.862605  ]\n",
            " [0.86866844]\n",
            " [0.8722428 ]\n",
            " [0.87221843]\n",
            " [0.8687898 ]\n",
            " [0.864186  ]\n",
            " [0.86208194]\n",
            " [0.86631256]\n",
            " [0.8744461 ]\n",
            " [0.8818308 ]\n",
            " [0.8831272 ]\n",
            " [0.86833316]]\n",
            "[[7104.8423]\n",
            " [7111.1934]\n",
            " [7119.1367]\n",
            " [7126.1865]\n",
            " [7130.343 ]\n",
            " [7130.3145]\n",
            " [7126.328 ]\n",
            " [7120.975 ]\n",
            " [7118.5283]\n",
            " [7123.4478]\n",
            " [7132.905 ]\n",
            " [7141.491 ]\n",
            " [7142.9985]\n",
            " [7125.797 ]]\n",
            "[[7174.01]\n",
            " [7170.94]\n",
            " [7179.81]\n",
            " [7173.11]\n",
            " [7147.42]\n",
            " [7135.52]\n",
            " [7150.52]\n",
            " [7176.88]\n",
            " [7210.  ]\n",
            " [7182.49]\n",
            " [7163.22]\n",
            " [7130.67]\n",
            " [7020.94]\n",
            " [6915.45]]\n"
          ],
          "name": "stdout"
        }
      ]
    },
    {
      "cell_type": "code",
      "metadata": {
        "id": "WA88Ybvmg43g",
        "colab_type": "code",
        "outputId": "1ff887f0-a9eb-4eb1-c701-ee5df9d6beef",
        "colab": {
          "base_uri": "https://localhost:8080/",
          "height": 295
        }
      },
      "source": [
        "# Visualising the results\n",
        "plt.plot(real_index, color = 'red', label = 'TUNINDEX réel')\n",
        "plt.plot(predicted_index, color = 'blue', label = 'TUNINDEX prédit avec RNN')\n",
        "plt.title('Prévision de TUNINDEX avec RNN')\n",
        "plt.xlabel('Jours')\n",
        "plt.ylabel('Points')\n",
        "plt.legend()\n",
        "plt.show()"
      ],
      "execution_count": 0,
      "outputs": [
        {
          "output_type": "display_data",
          "data": {
            "image/png": "[encoded data removed]",
            "text/plain": [
              "<Figure size 432x288 with 1 Axes>"
            ]
          },
          "metadata": {
            "tags": []
          }
        }
      ]
    }
  ]
}